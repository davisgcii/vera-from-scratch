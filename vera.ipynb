{
 "cells": [
  {
   "cell_type": "code",
   "execution_count": 10,
   "metadata": {},
   "outputs": [],
   "source": [
    "# imports\n",
    "import torch, torchvision\n",
    "import torchvision.transforms as transforms\n",
    "import torch.nn as nn\n",
    "import torch.nn.functional as F\n",
    "import matplotlib.pyplot as plt\n",
    "import numpy as np"
   ]
  },
  {
   "cell_type": "code",
   "execution_count": 11,
   "metadata": {},
   "outputs": [
    {
     "name": "stdout",
     "output_type": "stream",
     "text": [
      "Using MPS!\n"
     ]
    }
   ],
   "source": [
    "# set up MPS\n",
    "device = 'cpu'\n",
    "\n",
    "if not torch.backends.mps.is_available():\n",
    "    if not torch.backends.mps.is_built():\n",
    "        print(\"Current pytorch install wasn't built with MPS enabled\")\n",
    "    else:\n",
    "        print(\"MPS is not available\")\n",
    "else:\n",
    "    device = torch.device(\"mps\")\n",
    "    print(\"Using MPS!\")"
   ]
  },
  {
   "attachments": {},
   "cell_type": "markdown",
   "metadata": {},
   "source": [
    "Just like with my LoRA implementation, we're going to be using the CIFAR10 dataset. This dataset consists of 60,000 32x32 color images in 10 classes, with 6,000 images per class. There are 50,000 training images and 10,000 test images. We'll be using the same data augmentation and normalization as the LoRA implementation, so we'll just copy that code over."
   ]
  },
  {
   "cell_type": "code",
   "execution_count": 12,
   "metadata": {},
   "outputs": [],
   "source": [
    "transform = transforms.Compose(\n",
    "    [transforms.ToTensor(), # convert image to tensor\n",
    "      transforms.Normalize((0.5, 0.5, 0.5), (0.5, 0.5, 0.5))]) # normalize pixel values of image"
   ]
  },
  {
   "cell_type": "code",
   "execution_count": 13,
   "metadata": {},
   "outputs": [
    {
     "name": "stdout",
     "output_type": "stream",
     "text": [
      "Downloading https://www.cs.toronto.edu/~kriz/cifar-10-python.tar.gz to ./data/cifar-10-python.tar.gz\n"
     ]
    },
    {
     "name": "stderr",
     "output_type": "stream",
     "text": [
      "100.0%\n"
     ]
    },
    {
     "name": "stdout",
     "output_type": "stream",
     "text": [
      "Extracting ./data/cifar-10-python.tar.gz to ./data\n",
      "Files already downloaded and verified\n"
     ]
    }
   ],
   "source": [
    "batch_size = 4 # number of images per batch\n",
    "\n",
    "# download training dataset, apply transform, and load into DataLoader\n",
    "trainset = torchvision.datasets.CIFAR10(root='./data', train=True,\n",
    "                                        download=True, transform=transform)\n",
    "\n",
    "trainloader = torch.utils.data.DataLoader(trainset, batch_size=batch_size, # load data in batches\n",
    "                                          shuffle=True, num_workers=2)\n",
    "\n",
    "testset = torchvision.datasets.CIFAR10(root='./data', train=False, # download test dataset\n",
    "                                        download=True, transform=transform)\n",
    "\n",
    "testloader = torch.utils.data.DataLoader(testset, batch_size=batch_size, # load data in batches\n",
    "                                          shuffle=False, num_workers=2)\n",
    "\n",
    "classes = ('plane', 'car', 'bird', 'cat', 'deer', # class labels\n",
    "            'dog', 'frog', 'horse', 'ship', 'truck')\n",
    "\n"
   ]
  },
  {
   "cell_type": "code",
   "execution_count": 14,
   "metadata": {},
   "outputs": [],
   "source": [
    "# utility function to show one image\n",
    "def showimg(img):\n",
    "  \"\"\"\n",
    "  Show an image.\n",
    "  \n",
    "  :param img: The image to show.\n",
    "  \"\"\"\n",
    "  img = img / 2 + 0.5 # unnormalize\n",
    "  npimg = img.numpy() # convert to numpy array\n",
    "  plt.imshow(np.transpose(npimg, (1, 2, 0))) # transpose to get correct image orientation\n",
    "  plt.show()"
   ]
  },
  {
   "cell_type": "code",
   "execution_count": 15,
   "metadata": {},
   "outputs": [],
   "source": [
    "# get some random training images\n",
    "dataiter = iter(trainloader) # create an iterator\n",
    "images, labels = next(dataiter) # get the next batch of images and labels"
   ]
  },
  {
   "attachments": {},
   "cell_type": "markdown",
   "metadata": {},
   "source": [
    "Just like with LoRA, I'll be creating a simple CNN to classify the images. Let's build something just a bit more complex this time around. We'll use a few convolutional layers, some max pooling, and a few fully connected layers to flatten the convolutional layers and classify the images."
   ]
  },
  {
   "cell_type": "code",
   "execution_count": 16,
   "metadata": {},
   "outputs": [],
   "source": [
    "class ConvNet(nn.Module):\n",
    "    def __init__(self):\n",
    "        super().__init__()\n",
    "        # network layers defined below\n",
    "        self.conv1 = nn.Conv2d(\n",
    "            3, 6, 5\n",
    "        ) # 3 input channels, 6 output channels, 5x5 kernel\n",
    "        self.pool = nn.MaxPool2d(2, 2)  # 2x2 kernel, stride of 2\n",
    "        self.conv2 = nn.Conv2d(\n",
    "            6, 16, 5\n",
    "        ) # 6 input channels, 16 output channels, 5x5 kernel\n",
    "        self.pool = nn.MaxPool2d(2, 2)  # 2x2 kernel, stride of 2\n",
    "        self.conv3 = nn.Conv2d(\n",
    "            16, 32, 5\n",
    "        ) # 16 input channels, 32 output channels, 5x5 kernel\n",
    "        self.fc1 = nn.Linear(\n",
    "            16 * 5 * 5, 120\n",
    "        ) # 16 * 5 * 5 input features, 120 output features\n",
    "        self.fc2 = nn.Linear(120, 84)  # 120 input features, 84 output features\n",
    "        self.fc3 = nn.Linear(84, 84)\n",
    "        self.fc4 = nn.Linear(84, 84)\n",
    "        self.fc5 = nn.Linear(84, 10)  # 84 input features, 10 output features\n",
    "\n",
    "    def forward(self, x):  # define the forward pass\n",
    "        x = self.pool(F.relu(self.conv1(x)))  # convolve, apply ReLU, then pool\n",
    "        x = self.pool(F.relu(self.conv2(x)))  # convolve, apply ReLU, then pool\n",
    "        x = torch.flatten(x, 1)  # flatten all dimensions except batch\n",
    "        x = F.relu(self.fc1(x))  # apply ReLU\n",
    "        x = F.relu(self.fc2(x))  # apply ReLU\n",
    "        x = F.relu(self.fc3(x))\n",
    "        x = F.relu(self.fc4(x))\n",
    "        x = self.fc5(x)  # output layer\n",
    "        return x"
   ]
  },
  {
   "attachments": {},
   "cell_type": "markdown",
   "metadata": {},
   "source": [
    "Throughout this notebook, it will be helpful to be able to print and see all of the layers of the model, as well as which layers are trainable. We'll also want to be able to count trainable and frozen parameters."
   ]
  },
  {
   "cell_type": "code",
   "execution_count": 17,
   "metadata": {},
   "outputs": [],
   "source": [
    "def print_params(model: nn.Module):\n",
    "  \"\"\"\n",
    "  Print the number of trainable and untrainable parameters in the model.\n",
    "\n",
    "  :param model: The model to print the parameters of.\n",
    "  \"\"\"\n",
    "  trainable = 0 # number of trainable parameters\n",
    "  untrainable = 0 # number of untrainable parameters\n",
    "  trainable_size = 0 # size in mb of trainable parameters\n",
    "\n",
    "  print(\"Layers:\")\n",
    "  for name, param in model.named_parameters():\n",
    "    print(f\"- {name} of size {param.size()} -> {'trainable' if param.requires_grad else 'untrainable'}\")\n",
    "\n",
    "    if param.requires_grad: # if the parameter requires a gradient\n",
    "      trainable += param.numel() # increment the number of trainable parameters\n",
    "      trainable_size += param.numel() * param.element_size() # increment the size of trainable parameters\n",
    "    else: # otherwise\n",
    "      untrainable += param.numel() # increment the number of untrainable parameters\n",
    "\n",
    "  print(f\"\\nTrainable parameters: {trainable}\")\n",
    "  print(f\"Untrainable parameters: {untrainable}\")\n",
    "  print(f\"Total parameters: {trainable + untrainable}\\n\")\n",
    "  print(f\"Percent trainable: {100 * trainable / (trainable + untrainable):.2f}%\")\n",
    "  percentage = trainable_size / 1e6\n",
    "  print(f\"Size of trainable parameters: {percentage:.2f} mb\")\n",
    "\n"
   ]
  },
  {
   "cell_type": "code",
   "execution_count": 18,
   "metadata": {},
   "outputs": [
    {
     "name": "stdout",
     "output_type": "stream",
     "text": [
      "Layers:\n",
      "- conv1.weight of size torch.Size([6, 3, 5, 5]) -> trainable\n",
      "- conv1.bias of size torch.Size([6]) -> trainable\n",
      "- conv2.weight of size torch.Size([16, 6, 5, 5]) -> trainable\n",
      "- conv2.bias of size torch.Size([16]) -> trainable\n",
      "- conv3.weight of size torch.Size([32, 16, 5, 5]) -> trainable\n",
      "- conv3.bias of size torch.Size([32]) -> trainable\n",
      "- fc1.weight of size torch.Size([120, 400]) -> trainable\n",
      "- fc1.bias of size torch.Size([120]) -> trainable\n",
      "- fc2.weight of size torch.Size([84, 120]) -> trainable\n",
      "- fc2.bias of size torch.Size([84]) -> trainable\n",
      "- fc3.weight of size torch.Size([84, 84]) -> trainable\n",
      "- fc3.bias of size torch.Size([84]) -> trainable\n",
      "- fc4.weight of size torch.Size([84, 84]) -> trainable\n",
      "- fc4.bias of size torch.Size([84]) -> trainable\n",
      "- fc5.weight of size torch.Size([10, 84]) -> trainable\n",
      "- fc5.bias of size torch.Size([10]) -> trainable\n",
      "\n",
      "Trainable parameters: 89118\n",
      "Untrainable parameters: 0\n",
      "Total parameters: 89118\n",
      "\n",
      "Percent trainable: 100.00%\n",
      "Size of trainable parameters: 0.36 mb\n"
     ]
    }
   ],
   "source": [
    "net = ConvNet() # create a new ConvNet\n",
    "print_params(net)"
   ]
  },
  {
   "attachments": {},
   "cell_type": "markdown",
   "metadata": {},
   "source": [
    "Alright, now let's train the model."
   ]
  },
  {
   "cell_type": "code",
   "execution_count": 19,
   "metadata": {},
   "outputs": [],
   "source": [
    "import torch.optim as optim # package with common optimization algorithms\n",
    "\n",
    "criterion = nn.CrossEntropyLoss() # loss function\n",
    "optimizer = optim.SGD(net.parameters(), lr=0.001, momentum=0.9) # optimizer"
   ]
  },
  {
   "cell_type": "code",
   "execution_count": 20,
   "metadata": {},
   "outputs": [],
   "source": [
    "def train(model, criterion, optimizer, trainloader, num_epochs=5, device='cpu', announce=2000):\n",
    "    model.to(device)  # move the model to the device\n",
    "\n",
    "    for epoch in range(num_epochs):\n",
    "        running_loss = 0.0  # keep track of running loss\n",
    "        for i, data in enumerate(trainloader, 0):  # iterate over data\n",
    "            inputs, labels = data[0].to(device), data[1].to(device)  # get inputs and labels\n",
    "\n",
    "            # zero the parameter gradients (otherwise they are accumulated)\n",
    "            optimizer.zero_grad()\n",
    "\n",
    "            # forward + backward + optimize\n",
    "            outputs = model(inputs)  # forward pass\n",
    "            loss = criterion(outputs, labels)  # compute loss\n",
    "            loss.backward()  # backward pass\n",
    "            optimizer.step()  # optimize\n",
    "\n",
    "            # print statistics\n",
    "            running_loss += loss.item()\n",
    "            if i % announce == announce - 1:  # print every announce mini-batches\n",
    "                print(f\"[{epoch + 1}, {i + 1}] loss: {running_loss / announce:.3f}\")\n",
    "                running_loss = 0.0\n",
    "        print(f\"Finished epoch {epoch + 1}\")\n",
    "\n",
    "    print('Finished training')"
   ]
  },
  {
   "cell_type": "code",
   "execution_count": 21,
   "metadata": {},
   "outputs": [
    {
     "name": "stdout",
     "output_type": "stream",
     "text": [
      "[1, 2000] loss: 2.304\n",
      "[1, 4000] loss: 2.303\n",
      "[1, 6000] loss: 2.301\n",
      "[1, 8000] loss: 2.213\n",
      "[1, 10000] loss: 1.920\n",
      "[1, 12000] loss: 1.801\n",
      "Finished epoch 1\n",
      "[2, 2000] loss: 1.652\n",
      "[2, 4000] loss: 1.594\n",
      "[2, 6000] loss: 1.547\n",
      "[2, 8000] loss: 1.497\n",
      "[2, 10000] loss: 1.453\n",
      "[2, 12000] loss: 1.416\n",
      "Finished epoch 2\n",
      "[3, 2000] loss: 1.376\n",
      "[3, 4000] loss: 1.332\n",
      "[3, 6000] loss: 1.334\n",
      "[3, 8000] loss: 1.318\n",
      "[3, 10000] loss: 1.286\n",
      "[3, 12000] loss: 1.278\n",
      "Finished epoch 3\n",
      "[4, 2000] loss: 1.223\n",
      "[4, 4000] loss: 1.197\n",
      "[4, 6000] loss: 1.197\n",
      "[4, 8000] loss: 1.168\n",
      "[4, 10000] loss: 1.195\n",
      "[4, 12000] loss: 1.174\n",
      "Finished epoch 4\n",
      "[5, 2000] loss: 1.111\n",
      "[5, 4000] loss: 1.106\n",
      "[5, 6000] loss: 1.094\n",
      "[5, 8000] loss: 1.085\n",
      "[5, 10000] loss: 1.085\n",
      "[5, 12000] loss: 1.086\n",
      "Finished epoch 5\n",
      "[6, 2000] loss: 1.020\n",
      "[6, 4000] loss: 1.032\n",
      "[6, 6000] loss: 1.033\n",
      "[6, 8000] loss: 1.033\n",
      "[6, 10000] loss: 1.017\n",
      "[6, 12000] loss: 1.021\n",
      "Finished epoch 6\n",
      "Finished training\n"
     ]
    }
   ],
   "source": [
    "train(net, criterion, optimizer, trainloader, num_epochs=6, device=device)"
   ]
  },
  {
   "cell_type": "code",
   "execution_count": 22,
   "metadata": {},
   "outputs": [],
   "source": [
    "PATH = './cifar_net.pth' # path to save the model\n",
    "torch.save(net.state_dict(), PATH) # save the model"
   ]
  },
  {
   "cell_type": "code",
   "execution_count": 23,
   "metadata": {},
   "outputs": [],
   "source": [
    "def test_model(model, testloader, classes):\n",
    "    \"\"\"\n",
    "    Test the model and print out the total accuracy and the accuracy for each class.\n",
    "    \n",
    "    Args:\n",
    "        model: The model to test.\n",
    "        testloader: The DataLoader for the test data.\n",
    "        classes: The class labels.\n",
    "    \"\"\"\n",
    "    dataiter = iter(testloader) # create an iterator\n",
    "    images, labels = next(dataiter) # get the next batch of images and labels\n",
    "\n",
    "    # print images\n",
    "    showimg(torchvision.utils.make_grid(images))\n",
    "    print('GroundTruth: ', ' '.join('%5s' % classes[labels[j]] for j in range(batch_size)))\n",
    "\n",
    "    images = images.to(device)\n",
    "    outputs = net(images) # get the network's predictions\n",
    "\n",
    "    _, predicted = torch.max(outputs, 1) # get the class with the highest score\n",
    "    print('Predicted: ', ' '.join('%5s' % classes[predicted[j]]\n",
    "                                for j in range(batch_size)))\n",
    "\n",
    "\n",
    "    correct = 0\n",
    "    total = 0\n",
    "    class_correct = list(0. for i in range(len(classes)))\n",
    "    class_total = list(0. for i in range(len(classes)))\n",
    "    accuracy_dict = {}\n",
    "\n",
    "    with torch.no_grad(): # don't compute gradients\n",
    "        for data in testloader: # iterate over data\n",
    "            images, labels = data[0].to(device), data[1].to(device) # get inputs and labels\n",
    "            outputs = model(images) # get the network's predictions\n",
    "            _, predicted = torch.max(outputs.data, 1) # get the class with the highest score\n",
    "            total += labels.size(0) # increment total by the number of labels\n",
    "            correct += (predicted == labels).sum().item() # increment correct by the number of correct predictions\n",
    "\n",
    "            c = (predicted == labels).squeeze()\n",
    "            for i in range(len(labels)):\n",
    "                label = labels[i]\n",
    "                class_correct[label] += c[i].item()\n",
    "                class_total[label] += 1\n",
    "\n",
    "    print(f\"Accuracy of the network on the 10000 test images: {100 * correct / total}%\\n\")\n",
    "\n",
    "    for i in range(len(classes)):\n",
    "        print(f\"Accuracy of {classes[i]}: {100 * class_correct[i] / class_total[i]:.2f}%\")\n",
    "        accuracy_dict[classes[i]] = 100 * class_correct[i] / class_total[i]\n",
    "\n",
    "    return accuracy_dict"
   ]
  },
  {
   "cell_type": "code",
   "execution_count": 24,
   "metadata": {},
   "outputs": [
    {
     "data": {
      "image/png": "[encoded data removed]",
      "text/plain": [
       "<Figure size 640x480 with 1 Axes>"
      ]
     },
     "metadata": {},
     "output_type": "display_data"
    },
    {
     "name": "stdout",
     "output_type": "stream",
     "text": [
      "GroundTruth:    cat  ship  ship plane\n",
      "Predicted:    cat   car plane plane\n",
      "Accuracy of the network on the 10000 test images: 62.76%\n",
      "\n",
      "Accuracy of plane: 71.30%\n",
      "Accuracy of car: 79.20%\n",
      "Accuracy of bird: 50.70%\n",
      "Accuracy of cat: 55.10%\n",
      "Accuracy of deer: 48.10%\n",
      "Accuracy of dog: 39.60%\n",
      "Accuracy of frog: 67.60%\n",
      "Accuracy of horse: 72.30%\n",
      "Accuracy of ship: 67.90%\n",
      "Accuracy of truck: 75.80%\n"
     ]
    }
   ],
   "source": [
    "initial_accuracy = test_model(net, testloader, classes)"
   ]
  },
  {
   "attachments": {},
   "cell_type": "markdown",
   "metadata": {},
   "source": [
    "Alright, let's make our VeRA model.\n",
    "\n",
    "VeRA is similar to LoRA in that it adds lower-rank auxiliary matrices to the weight matrices of the model. However, instead of training different auxiliary matrix pairs for each linear layer of the model, VeRA shares auxiliary matrices across all same-sized linear layers and trains separate scaling vectors instead.\n",
    "\n",
    "For example, if a model has the following four linear layers:\n",
    "- `layer1.shape = (100, 120)`\n",
    "- `layer2.shape = (120, 120)`\n",
    "- `layer3.shape = (120, 120)`\n",
    "- `layer4.shape = (120, 10)`\n",
    "\n",
    "Three sets of auxiliary matrices A and B will be created -- one for layer 1, one shared between layer2 and layer3, and one for layer4. These auxiliary matrices are always initialized with kaiming uniform initialization.\n",
    "\n",
    "A set of scaling vectors `d` and `b` will be each layer; `d` will be of shape `(,rank)` and `b` will be of shape `(,out_dim)`, where rank is the common rank between the auxiliary matrices and `out_dim` is the output dimension of the layer. `b` is initialized to 0 and `d` is initialized to some constant (the paper used 1.0).\n",
    "\n",
    "To compute the output of a layer, the following steps are taken:\n",
    "- Scale the auxiliary matrices: `A' = Ad, B' = Bd`\n",
    "- Compute the weight deltas: `dW = A' @ B'`\n",
    "- Add the weight deltas to the original weights: `W' = W + dW`\n",
    "- Compute the output of the layer with the auxiliary matrices: `y' = W'x + b`\n",
    "\n",
    "To train the model, you compute the gradient of the loss with respect to the scaling vectors and then update their values. The auxiliary matrices are not updated.\n"
   ]
  },
  {
   "cell_type": "code",
   "execution_count": 25,
   "metadata": {},
   "outputs": [],
   "source": [
    "# let's build out VeRA layer\n",
    "class VeRALinear(nn.Module):\n",
    "    \"\"\"\n",
    "    This is an implementation of vector-based random matrix adaptation. This is similar to LoRA, with the primary difference being that the low-rank matrices are randomly initialized and frozen, and instead two small vectors b and d are trained.\n",
    "\n",
    "    Because the low-rank matrices A and B are shared across all layers of the same size, they must be provided as arguments to the constructor.\n",
    "\n",
    "    :param module: The linear layer module to adapt.\n",
    "    :param A: The auxiliary matrix A.\n",
    "    :param B: The auxiliary matrix B.\n",
    "    \"\"\"\n",
    "\n",
    "    def __init__(\n",
    "            self,\n",
    "            module: nn.Module,\n",
    "            A: torch.Tensor,\n",
    "            B: torch.Tensor,\n",
    "            d_init: float = 1.0,\n",
    "    ):\n",
    "        # ensure that the input module is a linear layer\n",
    "        assert isinstance(module, nn.Linear), \"VeRALinear can only be applied to linear layers\"\n",
    "\n",
    "        super().__init__()\n",
    "        self.in_dim = module.in_features # input dimension\n",
    "        self.out_dim = module.out_features # output dimension\n",
    "        self.A = A # auxiliary matrix A\n",
    "        self.B = B # auxiliary matrix B\n",
    "        self.rank = A.shape[1] # rank of the low-rank matrices\n",
    "        self.d_init = d_init # initial value for d\n",
    "\n",
    "        # ensure that A and B are of the right shape\n",
    "        # A should be (in_dim, rank) and B should be (rank, out_dim)\n",
    "        # where in_dim is module.in_features, out_dim is module.out_features, and rank is the rank of the low-rank matrice\n",
    "        assert A.shape == (self.in_dim, self.rank), f\"A should be of shape {(self.in_dim, self.rank)}\"\n",
    "        assert B.shape == (self.rank, self.out_dim), f\"B should be of shape {(self.rank, self.out_dim)}\"        \n",
    "\n",
    "        # recreate the linear layer and freeze it\n",
    "        # note: we will copy over the pretrained weights after initializing\n",
    "        self.pretrained = nn.Linear(self.in_dim, self.out_dim, bias=True)\n",
    "        self.pretrained.weight = nn.Parameter(module.weight.detach().clone())\n",
    "        self.pretrained.bias = nn.Parameter(module.bias.detach().clone())\n",
    "        self.pretrained.weight.requires_grad = False # freeze the weights\n",
    "        self.pretrained.bias.requires_grad = False # freeze the bias\n",
    "\n",
    "        # initialize the d vector of shape (1, rank) with all values equal to d_init\n",
    "        self.d = nn.Parameter(torch.full((1, self.rank), d_init))\n",
    "\n",
    "        # initialize b vector of shape (1, out_dim) with all values equal to 0\n",
    "        self.b = nn.Parameter(torch.zeros(1, self.out_dim))\n",
    "\n",
    "        self.d.requires_grad = True\n",
    "        self.b.requires_grad = True\n",
    "\n",
    "    def forward(self, x: torch.Tensor) -> torch.Tensor:\n",
    "        \"\"\"\n",
    "        Forward pass of the VeRALinear layer.\n",
    "\n",
    "        :param x: The input tensor.\n",
    "        :return: The output tensor.\n",
    "        \"\"\"\n",
    "        # compute the output of the pretrained linear layer\n",
    "        pretrained_out = self.pretrained(x) # get the pretrained weights\n",
    "\n",
    "        # scale self.A by self.d; size is (in_dim, rank)\n",
    "        scaled_A = self.A * self.d.view(1, -1)\n",
    "        assert scaled_A.shape == (self.in_dim, self.rank), f\"scaled_A should be of shape {(self.in_dim, self.rank)}. Got {scaled_A.shape} instead.\"\n",
    "\n",
    "        # scale self.B by self.d; size is (rank, out_dim)\n",
    "        scaled_B = self.B * self.b.view(1, -1)\n",
    "        assert scaled_B.shape == (self.rank, self.out_dim), f\"scaled_B should be of shape {(self.rank, self.out_dim)}. Got {scaled_B.shape} instead.\"\n",
    "\n",
    "        out = x @ (scaled_A @ scaled_B)\n",
    "        assert out.shape == pretrained_out.shape, f\"out should be of shape {pretrained_out.shape}. Got {out.shape} instead.\"\n",
    "\n",
    "        return pretrained_out + out"
   ]
  },
  {
   "attachments": {},
   "cell_type": "markdown",
   "metadata": {},
   "source": [
    "Now we need some utility functions. We need to be able to:\n",
    "- freeze all existing layers in a model\n",
    "- go through a model and find all linear layers\n",
    "- generate auxiliary matrices A and B for each group of same-sized linear layers\n",
    "- turn each linear layer into a VeRA layer with the auxiliary matrices A and B\n",
    "\n",
    "In the end, we should be able to take any given pytorch model and turn it into a VeRA model."
   ]
  },
  {
   "cell_type": "code",
   "execution_count": 26,
   "metadata": {},
   "outputs": [],
   "source": [
    "def freeze_params(model: nn.Module):\n",
    "    \"\"\"\n",
    "    Freeze all parameters in a model.\n",
    "\n",
    "    :param model: The model to freeze.\n",
    "    \"\"\"\n",
    "    for param in model.parameters():\n",
    "        param.requires_grad = False\n",
    "\n",
    "def unfreeze_params(model: nn.Module):\n",
    "    \"\"\"\n",
    "    Unfreeze all parameters in a model.\n",
    "\n",
    "    :param model: The model to unfreeze.\n",
    "    \"\"\"\n",
    "    for param in model.parameters():\n",
    "        param.requires_grad = True\n",
    "\n",
    "def unfreeze_VeRA_vectors(model: nn.Module):\n",
    "    \"\"\"\n",
    "    Unfreeze the d and b vectors in a VeRA model. Recursively calls itself on all children of the model to ensure that all VeRALinear layers in the model have their d and b vectors unfrozen.\n",
    "    \"\"\"\n",
    "    for name, module in model.named_children():\n",
    "        if isinstance(module, VeRALinear):\n",
    "            module.d.requires_grad = True\n",
    "            module.b.requires_grad = True\n",
    "        else: # recursively call on the module if it is not a VeRALinear layer because it may contain VeRALinear layers\n",
    "            unfreeze_VeRA_vectors(module)\n",
    "\n",
    "def countAuxMatrixPairs(model: nn.Module):\n",
    "    \"\"\"\n",
    "    Return the number of unique auxiliary matrix pairs in the model by recursively iterating over all children of the model.\n",
    "    \"\"\"\n",
    "    aux_matrix_pairs = set()\n",
    "    for name, module in model.named_children():\n",
    "        if isinstance(module, VeRALinear):\n",
    "            aux_matrix_pairs.add((module.A, module.B))\n",
    "        else: # recursively call on the module if it is not a VeRALinear layer because it may contain VeRALinear layers\n",
    "            aux_matrix_pairs.update(countAuxMatrixPairs(module))\n",
    "    return aux_matrix_pairs\n",
    "\n",
    "def createVeRAModel(model: nn.Module, rank: int=4, device: str='cpu', aux_matrices: dict={}):\n",
    "    \"\"\"\n",
    "    Modify a pretrained model in place to create a VeRA model. This is done by modifying each nn.Linear layer in the model to a VeRALinear layer. All nn.Linear layers of the same shape share the same A and B auxiliary matrices.\n",
    "\n",
    "    :param model: The pretrained model.\n",
    "    :param device: The device to move the model to.\n",
    "    \"\"\"\n",
    "    # make sure there are no VeRALinear layers in the model; return if there are\n",
    "    for _, module in model.named_modules():\n",
    "        if isinstance(module, VeRALinear):\n",
    "            print(\"Model already contains VeRALinear layers\")\n",
    "            return\n",
    "        \n",
    "    # freeze all parameters in the model\n",
    "    freeze_params(model)\n",
    "\n",
    "    # iterate over all layers; determine the set of shapes of all linear layers in the model\n",
    "    shapes = set()\n",
    "    for _, module in model.named_children():\n",
    "        if isinstance(module, nn.Linear):\n",
    "            shapes.add((module.in_features, module.out_features))\n",
    "    \n",
    "    # for each shape, create auxiliary matrices A and B\n",
    "    # A should be of shape (in_dim, rank) and B should be of shape (rank, out_dim)\n",
    "    # A and B should both be initialized with kaiming_uniform_\n",
    "    for shape in shapes:\n",
    "        in_dim, out_dim = shape\n",
    "        A = torch.empty((in_dim, rank)).to(device)\n",
    "        B = torch.empty((rank, out_dim)).to(device)\n",
    "        nn.init.kaiming_uniform_(A)\n",
    "        nn.init.kaiming_uniform_(B)\n",
    "        aux_matrices[shape] = (A, B)\n",
    "\n",
    "    \n",
    "    for name, module in model.named_children():\n",
    "        if isinstance(module, nn.Linear):\n",
    "            # get the shape of the current linear layer\n",
    "            shape = (module.in_features, module.out_features)\n",
    "\n",
    "            # create the VeRALinear layer\n",
    "            vera = VeRALinear(module, *aux_matrices[shape])\n",
    "\n",
    "            # replace the current linear layer with the VeRALinear layer\n",
    "            setattr(model, name, vera)\n",
    "            print(f\"Replaced {name} with VeRALinear layer\")\n",
    "        else: # recursively call on the module if it is not a linear layer because it may contain linear layers\n",
    "            createVeRAModel(module, rank, device, aux_matrices)\n",
    "\n",
    "    # move the model to the device\n",
    "    model.to(device)\n",
    "\n",
    "    # unfreeze the d and b vectors in the model\n",
    "    unfreeze_VeRA_vectors(model)"
   ]
  },
  {
   "cell_type": "code",
   "execution_count": 28,
   "metadata": {},
   "outputs": [
    {
     "name": "stdout",
     "output_type": "stream",
     "text": [
      "Replaced fc1 with VeRALinear layer\n",
      "Replaced fc2 with VeRALinear layer\n",
      "Replaced fc3 with VeRALinear layer\n",
      "Replaced fc4 with VeRALinear layer\n",
      "Replaced fc5 with VeRALinear layer\n",
      "Layers:\n",
      "- conv1.weight of size torch.Size([6, 3, 5, 5]) -> untrainable\n",
      "- conv1.bias of size torch.Size([6]) -> untrainable\n",
      "- conv2.weight of size torch.Size([16, 6, 5, 5]) -> untrainable\n",
      "- conv2.bias of size torch.Size([16]) -> untrainable\n",
      "- conv3.weight of size torch.Size([32, 16, 5, 5]) -> untrainable\n",
      "- conv3.bias of size torch.Size([32]) -> untrainable\n",
      "- fc1.d of size torch.Size([1, 32]) -> trainable\n",
      "- fc1.b of size torch.Size([1, 120]) -> trainable\n",
      "- fc1.pretrained.weight of size torch.Size([120, 400]) -> untrainable\n",
      "- fc1.pretrained.bias of size torch.Size([120]) -> untrainable\n",
      "- fc2.d of size torch.Size([1, 32]) -> trainable\n",
      "- fc2.b of size torch.Size([1, 84]) -> trainable\n",
      "- fc2.pretrained.weight of size torch.Size([84, 120]) -> untrainable\n",
      "- fc2.pretrained.bias of size torch.Size([84]) -> untrainable\n",
      "- fc3.d of size torch.Size([1, 32]) -> trainable\n",
      "- fc3.b of size torch.Size([1, 84]) -> trainable\n",
      "- fc3.pretrained.weight of size torch.Size([84, 84]) -> untrainable\n",
      "- fc3.pretrained.bias of size torch.Size([84]) -> untrainable\n",
      "- fc4.d of size torch.Size([1, 32]) -> trainable\n",
      "- fc4.b of size torch.Size([1, 84]) -> trainable\n",
      "- fc4.pretrained.weight of size torch.Size([84, 84]) -> untrainable\n",
      "- fc4.pretrained.bias of size torch.Size([84]) -> untrainable\n",
      "- fc5.d of size torch.Size([1, 32]) -> trainable\n",
      "- fc5.b of size torch.Size([1, 10]) -> trainable\n",
      "- fc5.pretrained.weight of size torch.Size([10, 84]) -> untrainable\n",
      "- fc5.pretrained.bias of size torch.Size([10]) -> untrainable\n",
      "\n",
      "Trainable parameters: 542\n",
      "Untrainable parameters: 89118\n",
      "Total parameters: 89660\n",
      "\n",
      "Percent trainable: 0.60%\n",
      "Size of trainable parameters: 0.00 mb\n",
      "There are 4 unique auxiliary matrix pairs in the model\n"
     ]
    }
   ],
   "source": [
    "# create a copy of the existing network\n",
    "vera_net = ConvNet()\n",
    "\n",
    "# copy over the pretrained weights\n",
    "vera_net.load_state_dict(net.state_dict())\n",
    "\n",
    "# create the VeRA model\n",
    "createVeRAModel(vera_net, rank=32, device=device)\n",
    "print_params(vera_net)\n",
    "print(f\"There are {len(countAuxMatrixPairs(vera_net))} unique auxiliary matrix pairs in the model\")"
   ]
  },
  {
   "cell_type": "code",
   "execution_count": 29,
   "metadata": {},
   "outputs": [
    {
     "data": {
      "image/png": "[encoded data removed]",
      "text/plain": [
       "<Figure size 640x480 with 1 Axes>"
      ]
     },
     "metadata": {},
     "output_type": "display_data"
    }
   ],
   "source": [
    "# it looks like the 'cat', 'bird', and 'dog' classes had a low accuracy; let's fine tune the\n",
    "# vera-adapted model on those classes\n",
    "\n",
    "# create a new trainset that only contains the cat, bird, and dog classes\n",
    "new_trainset = [data for data in trainset if data[1] == classes.index('cat') or data[1] == classes.index('bird') or data[1] == classes.index('dog')]\n",
    "\n",
    "# create a trainloader for only the cat, bird, and dog classes\n",
    "new_trainloader = torch.utils.data.DataLoader(new_trainset, batch_size=4, shuffle=True, num_workers=2)\n",
    "\n",
    "# let's print a few of the cat images# Display some of the cat images\n",
    "new_dataiter = iter(new_trainloader) # create an iterator\n",
    "new_images, new_labels = next(new_dataiter) # get the next batch of images and labels\n",
    "\n",
    "# print images\n",
    "showimg(torchvision.utils.make_grid(new_images))"
   ]
  },
  {
   "cell_type": "code",
   "execution_count": 30,
   "metadata": {},
   "outputs": [
    {
     "name": "stdout",
     "output_type": "stream",
     "text": [
      "[1, 1000] loss: 1.096\n",
      "[1, 2000] loss: 0.973\n",
      "[1, 3000] loss: 0.898\n",
      "Finished epoch 1\n",
      "[2, 1000] loss: 0.821\n",
      "[2, 2000] loss: 0.815\n",
      "[2, 3000] loss: 0.780\n",
      "Finished epoch 2\n",
      "[3, 1000] loss: 0.783\n",
      "[3, 2000] loss: 0.749\n",
      "[3, 3000] loss: 0.732\n",
      "Finished epoch 3\n",
      "[4, 1000] loss: 0.726\n",
      "[4, 2000] loss: 0.738\n",
      "[4, 3000] loss: 0.742\n",
      "Finished epoch 4\n",
      "[5, 1000] loss: 0.718\n",
      "[5, 2000] loss: 0.731\n",
      "[5, 3000] loss: 0.738\n",
      "Finished epoch 5\n",
      "[6, 1000] loss: 0.718\n",
      "[6, 2000] loss: 0.717\n",
      "[6, 3000] loss: 0.712\n",
      "Finished epoch 6\n",
      "Finished training\n"
     ]
    }
   ],
   "source": [
    "# let's continue training the vera-adapted model on just the cat, bird, and dog classes\n",
    "optimizer = optim.SGD(vera_net.parameters(), lr=0.0001, momentum=0.9) # update the optimizer for the new parameters\n",
    "train(vera_net, criterion, optimizer, new_trainloader, num_epochs=6, device=device, announce=1000)\n"
   ]
  },
  {
   "cell_type": "code",
   "execution_count": 34,
   "metadata": {},
   "outputs": [
    {
     "name": "stdout",
     "output_type": "stream",
     "text": [
      "Layers:\n",
      "- conv1.weight of size torch.Size([6, 3, 5, 5]) -> untrainable\n",
      "- conv1.bias of size torch.Size([6]) -> untrainable\n",
      "- conv2.weight of size torch.Size([16, 6, 5, 5]) -> untrainable\n",
      "- conv2.bias of size torch.Size([16]) -> untrainable\n",
      "- conv3.weight of size torch.Size([32, 16, 5, 5]) -> untrainable\n",
      "- conv3.bias of size torch.Size([32]) -> untrainable\n",
      "- fc1.d of size torch.Size([1, 32]) -> trainable\n",
      "- fc1.b of size torch.Size([1, 120]) -> trainable\n",
      "- fc1.pretrained.weight of size torch.Size([120, 400]) -> untrainable\n",
      "- fc1.pretrained.bias of size torch.Size([120]) -> untrainable\n",
      "- fc2.d of size torch.Size([1, 32]) -> trainable\n",
      "- fc2.b of size torch.Size([1, 84]) -> trainable\n",
      "- fc2.pretrained.weight of size torch.Size([84, 120]) -> untrainable\n",
      "- fc2.pretrained.bias of size torch.Size([84]) -> untrainable\n",
      "- fc3.d of size torch.Size([1, 32]) -> trainable\n",
      "- fc3.b of size torch.Size([1, 84]) -> trainable\n",
      "- fc3.pretrained.weight of size torch.Size([84, 84]) -> untrainable\n",
      "- fc3.pretrained.bias of size torch.Size([84]) -> untrainable\n",
      "- fc4.d of size torch.Size([1, 32]) -> trainable\n",
      "- fc4.b of size torch.Size([1, 84]) -> trainable\n",
      "- fc4.pretrained.weight of size torch.Size([84, 84]) -> untrainable\n",
      "- fc4.pretrained.bias of size torch.Size([84]) -> untrainable\n",
      "- fc5.d of size torch.Size([1, 32]) -> trainable\n",
      "- fc5.b of size torch.Size([1, 10]) -> trainable\n",
      "- fc5.pretrained.weight of size torch.Size([10, 84]) -> untrainable\n",
      "- fc5.pretrained.bias of size torch.Size([10]) -> untrainable\n",
      "\n",
      "Trainable parameters: 542\n",
      "Untrainable parameters: 89118\n",
      "Total parameters: 89660\n",
      "\n",
      "Percent trainable: 0.60%\n",
      "Size of trainable parameters: 0.00 mb\n",
      "fc1.b has all zero weights: False\n",
      "fc2.b has all zero weights: False\n",
      "fc3.b has all zero weights: False\n",
      "fc4.b has all zero weights: False\n",
      "fc5.b has all zero weights: False\n"
     ]
    }
   ],
   "source": [
    "# double check the params\n",
    "print_params(vera_net)\n",
    "\n",
    "# quick check to ensure that the vectors have been trained\n",
    "for name, param in vera_net.named_parameters():\n",
    "  if 'b' == name.split('.')[-1]:\n",
    "    print(f\"{name} has all zero weights: {torch.all(param == 0)}\")"
   ]
  },
  {
   "cell_type": "code",
   "execution_count": 32,
   "metadata": {},
   "outputs": [
    {
     "data": {
      "image/png": "[encoded data removed]",
      "text/plain": [
       "<Figure size 640x480 with 1 Axes>"
      ]
     },
     "metadata": {},
     "output_type": "display_data"
    },
    {
     "name": "stdout",
     "output_type": "stream",
     "text": [
      "GroundTruth:    cat  ship  ship plane\n",
      "Predicted:    cat   car plane plane\n",
      "Accuracy of the network on the 10000 test images: 33.14%\n",
      "\n",
      "Accuracy of plane: 3.40%\n",
      "Accuracy of car: 56.50%\n",
      "Accuracy of bird: 72.90%\n",
      "Accuracy of cat: 59.70%\n",
      "Accuracy of deer: 6.80%\n",
      "Accuracy of dog: 57.30%\n",
      "Accuracy of frog: 0.00%\n",
      "Accuracy of horse: 4.60%\n",
      "Accuracy of ship: 54.50%\n",
      "Accuracy of truck: 15.70%\n"
     ]
    }
   ],
   "source": [
    "# let's check the accuracy on all classes again; we should see an improvement in the cat class\n",
    "new_accuracy = test_model(vera_net, testloader, classes)"
   ]
  },
  {
   "cell_type": "code",
   "execution_count": 33,
   "metadata": {},
   "outputs": [
    {
     "name": "stdout",
     "output_type": "stream",
     "text": [
      "plane: -67.9%\n",
      "car: -22.7%\n",
      "bird: +22.2%\n",
      "cat: +4.6%\n",
      "deer: -41.3%\n",
      "dog: +17.7%\n",
      "frog: -67.6%\n",
      "horse: -67.7%\n",
      "ship: -13.4%\n",
      "truck: -60.1%\n"
     ]
    }
   ],
   "source": [
    "# compare initial_accuracy and new_accuracy by printing the change in\n",
    "# accuracy for each class \n",
    "for key in initial_accuracy.keys():\n",
    "  change = new_accuracy[key] - initial_accuracy[key]\n",
    "  if change > 0:\n",
    "    print(f\"{key}: +{change:.1f}%\")\n",
    "  else:\n",
    "    print(f\"{key}: {change:.1f}%\")"
   ]
  },
  {
   "cell_type": "code",
   "execution_count": null,
   "metadata": {},
   "outputs": [],
   "source": []
  }
 ],
 "metadata": {
  "kernelspec": {
   "display_name": ".venv",
   "language": "python",
   "name": "python3"
  },
  "language_info": {
   "codemirror_mode": {
    "name": "ipython",
    "version": 3
   },
   "file_extension": ".py",
   "mimetype": "text/x-python",
   "name": "python",
   "nbconvert_exporter": "python",
   "pygments_lexer": "ipython3",
   "version": "3.11.2"
  },
  "orig_nbformat": 4
 },
 "nbformat": 4,
 "nbformat_minor": 2
}
